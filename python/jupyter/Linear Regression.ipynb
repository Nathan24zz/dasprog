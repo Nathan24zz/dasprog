{
 "cells": [
  {
   "cell_type": "code",
   "execution_count": 2,
   "metadata": {},
   "outputs": [],
   "source": [
    "import numpy as np\n",
    "import matplotlib.pyplot as plt\n",
    "import pandas as pd\n",
    "import seaborn as sns\n",
    "%matplotlib inline"
   ]
  },
  {
   "cell_type": "code",
   "execution_count": 22,
   "metadata": {},
   "outputs": [
    {
     "data": {
      "text/html": [
       "<div>\n",
       "<style scoped>\n",
       "    .dataframe tbody tr th:only-of-type {\n",
       "        vertical-align: middle;\n",
       "    }\n",
       "\n",
       "    .dataframe tbody tr th {\n",
       "        vertical-align: top;\n",
       "    }\n",
       "\n",
       "    .dataframe thead th {\n",
       "        text-align: right;\n",
       "    }\n",
       "</style>\n",
       "<table border=\"1\" class=\"dataframe\">\n",
       "  <thead>\n",
       "    <tr style=\"text-align: right;\">\n",
       "      <th></th>\n",
       "      <th>R&amp;D Spend</th>\n",
       "      <th>Administration</th>\n",
       "      <th>Marketing Spend</th>\n",
       "      <th>State</th>\n",
       "      <th>Profit</th>\n",
       "    </tr>\n",
       "  </thead>\n",
       "  <tbody>\n",
       "    <tr>\n",
       "      <th>0</th>\n",
       "      <td>165349.20</td>\n",
       "      <td>136897.80</td>\n",
       "      <td>471784.10</td>\n",
       "      <td>New York</td>\n",
       "      <td>192261.83</td>\n",
       "    </tr>\n",
       "    <tr>\n",
       "      <th>1</th>\n",
       "      <td>162597.70</td>\n",
       "      <td>151377.59</td>\n",
       "      <td>443898.53</td>\n",
       "      <td>California</td>\n",
       "      <td>191792.06</td>\n",
       "    </tr>\n",
       "    <tr>\n",
       "      <th>2</th>\n",
       "      <td>153441.51</td>\n",
       "      <td>101145.55</td>\n",
       "      <td>407934.54</td>\n",
       "      <td>Florida</td>\n",
       "      <td>191050.39</td>\n",
       "    </tr>\n",
       "    <tr>\n",
       "      <th>3</th>\n",
       "      <td>144372.41</td>\n",
       "      <td>118671.85</td>\n",
       "      <td>383199.62</td>\n",
       "      <td>New York</td>\n",
       "      <td>182901.99</td>\n",
       "    </tr>\n",
       "    <tr>\n",
       "      <th>4</th>\n",
       "      <td>142107.34</td>\n",
       "      <td>91391.77</td>\n",
       "      <td>366168.42</td>\n",
       "      <td>Florida</td>\n",
       "      <td>166187.94</td>\n",
       "    </tr>\n",
       "  </tbody>\n",
       "</table>\n",
       "</div>"
      ],
      "text/plain": [
       "   R&D Spend  Administration  Marketing Spend       State     Profit\n",
       "0  165349.20       136897.80        471784.10    New York  192261.83\n",
       "1  162597.70       151377.59        443898.53  California  191792.06\n",
       "2  153441.51       101145.55        407934.54     Florida  191050.39\n",
       "3  144372.41       118671.85        383199.62    New York  182901.99\n",
       "4  142107.34        91391.77        366168.42     Florida  166187.94"
      ]
     },
     "execution_count": 22,
     "metadata": {},
     "output_type": "execute_result"
    }
   ],
   "source": [
    "companies = pd.read_csv('1000_Companies.csv')\n",
    "\n",
    "X = companies.iloc[:,:-1].values\n",
    "y = companies.iloc[:,4].values\n",
    "companies.head()\n"
   ]
  },
  {
   "cell_type": "code",
   "execution_count": 5,
   "metadata": {},
   "outputs": [
    {
     "data": {
      "text/plain": [
       "<matplotlib.axes._subplots.AxesSubplot at 0x7f6f4d953ac0>"
      ]
     },
     "execution_count": 5,
     "metadata": {},
     "output_type": "execute_result"
    },
    {
     "data": {
      "image/png": "[encoded data removed]",
      "text/plain": [
       "<Figure size 432x288 with 2 Axes>"
      ]
     },
     "metadata": {
      "needs_background": "light"
     },
     "output_type": "display_data"
    }
   ],
   "source": [
    "sns.heatmap(companies.corr())"
   ]
  },
  {
   "cell_type": "code",
   "execution_count": 27,
   "metadata": {},
   "outputs": [
    {
     "data": {
      "text/plain": [
       "array([[165349.2, 136897.8, 471784.1, 2],\n",
       "       [162597.7, 151377.59, 443898.53, 0],\n",
       "       [153441.51, 101145.55, 407934.54, 1],\n",
       "       ...,\n",
       "       [100275.47, 241926.31, 227142.82, 0],\n",
       "       [128456.23, 321652.14, 281692.32, 0],\n",
       "       [161181.72, 270939.86, 295442.17, 2]], dtype=object)"
      ]
     },
     "execution_count": 27,
     "metadata": {},
     "output_type": "execute_result"
    }
   ],
   "source": [
    "from sklearn.preprocessing import LabelEncoder, OneHotEncoder\n",
    "from sklearn.compose import ColumnTransformer\n",
    "\n",
    "labelencoder = LabelEncoder()\n",
    "X[:,3] = labelencoder.fit_transform(X[:,3])\n",
    "X"
   ]
  },
  {
   "cell_type": "code",
   "execution_count": 43,
   "metadata": {},
   "outputs": [],
   "source": [
    "# Splitting the dataset into the Training set and Test set\n",
    "from sklearn.model_selection import train_test_split\n",
    "X_train, X_test, y_train, y_test = train_test_split(X, y, test_size = 0.2)"
   ]
  },
  {
   "cell_type": "code",
   "execution_count": 44,
   "metadata": {},
   "outputs": [
    {
     "data": {
      "text/plain": [
       "LinearRegression()"
      ]
     },
     "execution_count": 44,
     "metadata": {},
     "output_type": "execute_result"
    }
   ],
   "source": [
    "# Fitting Multiple Linear Regression to the Training set\n",
    "from sklearn.linear_model import LinearRegression\n",
    "regressor = LinearRegression()\n",
    "regressor.fit(X_train, y_train)"
   ]
  },
  {
   "cell_type": "code",
   "execution_count": 46,
   "metadata": {},
   "outputs": [
    {
     "name": "stdout",
     "output_type": "stream",
     "text": [
      "predict: 173980.7041606316  actual: 173263.9503\n",
      "predict: 107033.90353992084  actual: 107019.6345\n",
      "predict: 73761.72751217554  actual: 74052.53052\n",
      "predict: 73859.362219626  actual: 74324.19518\n",
      "predict: 56178.73638216994  actual: 56852.22806\n",
      "predict: 124903.39483617907  actual: 124765.8292\n",
      "predict: 92749.00916781792  actual: 92903.32391\n",
      "predict: 104043.16103420683  actual: 104151.7784\n",
      "predict: 80963.82478154934  actual: 81169.63192999999\n",
      "predict: 182144.57720241867  actual: 181243.88600000003\n",
      "predict: 156943.7204161986  actual: 156340.4382\n",
      "predict: 87589.30472898638  actual: 87716.921\n",
      "predict: 152420.2834408248  actual: 151782.7938\n",
      "predict: 139958.14744645054  actual: 139555.3214\n",
      "predict: 124921.14348266003  actual: 124695.7773\n",
      "predict: 143241.9533717943  actual: 142712.7823\n",
      "predict: 164239.18297353646  actual: 163549.8031\n",
      "predict: 153551.04124931587  actual: 152900.2069\n",
      "predict: 154516.62767668377  actual: 154029.5801\n",
      "predict: 78365.56233128978  actual: 78689.62408\n",
      "predict: 170163.55859047262  actual: 169404.2619\n",
      "predict: 110328.89497623069  actual: 110363.33099999999\n",
      "predict: 141202.5597085045  actual: 140872.6387\n",
      "predict: 79778.88957949178  actual: 78239.91\n",
      "predict: 88506.07391414297  actual: 88710.46186\n",
      "predict: 16748.444894627377  actual: 81229.06\n",
      "predict: 70397.06486216231  actual: 70902.75824\n",
      "predict: 120586.57185603949  actual: 120412.3603\n",
      "predict: 185433.51717447067  actual: 184581.6024\n",
      "predict: 152353.2586712035  actual: 151804.1511\n",
      "predict: 125592.44937280056  actual: 125271.5697\n",
      "predict: 178457.970221479  actual: 177513.1956\n",
      "predict: 101618.71484540473  actual: 101668.3534\n",
      "predict: 162606.15433898836  actual: 161936.0467\n",
      "predict: 81784.17638173644  actual: 82155.48418\n",
      "predict: 142936.73411692362  actual: 142586.3472\n",
      "predict: 168126.81136149823  actual: 167391.5514\n",
      "predict: 98397.2053941501  actual: 98397.27172\n",
      "predict: 80594.68596078796  actual: 80804.84952\n",
      "predict: 84854.45233676358  actual: 85101.93511\n",
      "predict: 73961.37250432157  actual: 74425.00156\n",
      "predict: 114167.30015266061  actual: 113981.2549\n",
      "predict: 15229.642122361256  actual: 89949.14\n",
      "predict: 70176.67193500232  actual: 70509.78421\n",
      "predict: 102538.13036312949  actual: 102489.3274\n",
      "predict: 74014.10667076011  actual: 74477.11333\n",
      "predict: 160387.26837325122  actual: 182901.99\n",
      "predict: 75915.9928630231  actual: 76356.55435\n",
      "predict: 132507.19108590926  actual: 149759.96\n",
      "predict: 65184.62636840614  actual: 65664.24355\n",
      "predict: 176767.83195476112  actual: 176018.1857\n",
      "predict: 71053.26854013736  actual: 71376.03566000001\n",
      "predict: 141582.9899651962  actual: 141073.3972\n",
      "predict: 85417.6964730673  actual: 85570.94107999999\n",
      "predict: 94071.22574113868  actual: 94297.52743\n",
      "predict: 64180.949110719404  actual: 64672.411270000004\n",
      "predict: 128237.7471368972  actual: 128060.83099999999\n",
      "predict: 143864.79463137992  actual: 143415.8641\n",
      "predict: 106525.58124472262  actual: 106517.3112\n",
      "predict: 67673.04514133799  actual: 68210.88613\n",
      "predict: 165952.1508036904  actual: 165330.1463\n",
      "predict: 116296.49524716596  actual: 116260.5043\n",
      "predict: 112040.59254926737  actual: 112054.8279\n",
      "predict: 56121.73279429169  actual: 56620.7151\n",
      "predict: 125993.57442986986  actual: 125667.9609\n",
      "predict: 118056.04230234437  actual: 146121.95\n",
      "predict: 164302.74981625684  actual: 163525.0287\n",
      "predict: 151331.88578039163  actual: 150707.2409\n",
      "predict: 152708.9712832094  actual: 152243.2568\n",
      "predict: 56396.58879460703  actual: 57067.50947999999\n",
      "predict: 100610.2563756941  actual: 100759.3874\n",
      "predict: 150920.33379821657  actual: 150475.728\n",
      "predict: 170335.13404751007  actual: 169661.4036\n",
      "predict: 181180.20800904566  actual: 180378.4888\n",
      "predict: 49855.882267178895  actual: 50428.811239999995\n",
      "predict: 85603.96839109421  actual: 85842.60573\n",
      "predict: 167324.56114072909  actual: 166598.769\n",
      "predict: 143203.4570182106  actual: 142762.3312\n",
      "predict: 95051.15590632564  actual: 95178.30183\n",
      "predict: 131275.57820259852  actual: 131062.8109\n",
      "predict: 100961.24091031236  actual: 101106.2297\n",
      "predict: 173480.16235134032  actual: 172769.3156\n",
      "predict: 76585.1109620994  actual: 77017.77587\n",
      "predict: 134184.19384292306  actual: 133849.5093\n",
      "predict: 142813.1645259092  actual: 142289.0538\n",
      "predict: 149620.13518423252  actual: 149190.8738\n",
      "predict: 82117.00640718383  actual: 82484.38635\n",
      "predict: 54591.120188290224  actual: 55195.75709\n",
      "predict: 131970.68409196392  actual: 131574.5314\n",
      "predict: 174061.1021158859  actual: 173343.3994\n",
      "predict: 84619.76880642085  actual: 84782.43014\n",
      "predict: 139356.05412187884  actual: 138872.7426\n",
      "predict: 141295.92499158523  actual: 140964.9022\n",
      "predict: 161300.7687764543  actual: 160646.0668\n",
      "predict: 93549.12451401466  actual: 93606.40571\n",
      "predict: 163751.14984393705  actual: 163155.1205\n",
      "predict: 83367.52315173476  actual: 83632.55396\n",
      "predict: 58996.12150247223  actual: 59636.363639999996\n",
      "predict: 105984.81394868469  actual: 106070.5168\n",
      "predict: 106479.80707478177  actual: 97427.84\n",
      "predict: 111578.14135215044  actual: 111422.6523\n",
      "predict: 166617.8110824964  actual: 165987.9507\n",
      "predict: 173324.55338938168  actual: 172615.5432\n",
      "predict: 89489.46201111417  actual: 89594.65342999999\n",
      "predict: 120549.39866141489  actual: 120375.6258\n",
      "predict: 102749.87840018852  actual: 102873.7585\n",
      "predict: 134460.831775031  actual: 134122.8826\n",
      "predict: 56449.37597977297  actual: 56944.49152999999\n",
      "predict: 168890.15925936316  actual: 168145.8907\n",
      "predict: 95065.39360278324  actual: 95279.96251\n",
      "predict: 58103.55817923052  actual: 58666.74292999999\n",
      "predict: 177098.06855924882  actual: 176344.525\n",
      "predict: 85777.27287466414  actual: 86101.45602\n",
      "predict: 82400.61333261325  actual: 82589.46419\n",
      "predict: 145622.7161371821  actual: 145240.6305\n",
      "predict: 97412.49412845311  actual: 97599.36357999999\n",
      "predict: 117089.2359603791  actual: 117043.8895\n",
      "predict: 145433.25119785444  actual: 122776.86\n",
      "predict: 146067.93047058902  actual: 145680.5905\n",
      "predict: 79670.489129292  actual: 80066.74177000001\n",
      "predict: 164062.36754482653  actual: 163462.6654\n",
      "predict: 168942.43466126992  actual: 168285.1402\n",
      "predict: 72026.68858804856  actual: 72337.96774\n",
      "predict: 172438.04164191178  actual: 171651.9025\n",
      "predict: 104898.14530990063  actual: 104996.6726\n",
      "predict: 172254.3102332361  actual: 171557.9304\n",
      "predict: 166748.4025833241  actual: 165941.81900000002\n",
      "predict: 159684.62427756263  actual: 158961.4042\n",
      "predict: 62955.55575714697  actual: 63373.88839\n",
      "predict: 183989.86566656342  actual: 182979.8061\n",
      "predict: 86611.56234998029  actual: 86750.71746\n",
      "predict: 125872.95108961602  actual: 125636.3521\n",
      "predict: 101925.61010368538  actual: 101971.6268\n",
      "predict: 157457.6354111229  actual: 156935.8793\n",
      "predict: 94067.76780935444  actual: 94294.11026\n",
      "predict: 69858.07949449861  actual: 70282.5427\n",
      "predict: 116903.42280200068  actual: 116685.0871\n",
      "predict: 104050.94152011382  actual: 104159.46699999999\n",
      "predict: 77331.6278540609  actual: 77667.8916\n",
      "predict: 167228.19657399863  actual: 166415.9507\n",
      "predict: 162855.99298822173  actual: 162182.9369\n",
      "predict: 171957.38302889877  actual: 171176.9165\n",
      "predict: 140737.51508554452  actual: 140237.9002\n",
      "predict: 174821.4508513817  actual: 174007.1838\n",
      "predict: 170326.0834159998  actual: 169564.8687\n",
      "predict: 84571.30417586595  actual: 84909.71956\n",
      "predict: 136942.79333252888  actual: 136575.5531\n",
      "predict: 114947.47927945672  actual: 114839.8177\n",
      "predict: 116620.27464110305  actual: 116492.8715\n",
      "predict: 97182.53878701193  actual: 97372.12207\n",
      "predict: 145066.03525279052  actual: 144515.3371\n",
      "predict: 55112.86857926496  actual: 55623.75707000001\n",
      "predict: 105588.0643573466  actual: 105503.2673\n",
      "predict: 162581.54273078075  actual: 161824.1346\n",
      "predict: 61056.164247629  actual: 64926.08\n",
      "predict: 126359.66106025636  actual: 126117.3181\n",
      "predict: 75612.14979511726  actual: 75968.70607\n",
      "predict: 144495.0106305798  actual: 144038.6425\n",
      "predict: 136591.35014489273  actual: 136315.8485\n",
      "predict: 164946.74463586856  actual: 164336.6055\n",
      "predict: 123436.80772347425  actual: 123228.959\n",
      "predict: 123784.79297932619  actual: 123485.2464\n",
      "predict: 110369.57912087862  actual: 110228.3529\n",
      "predict: 65336.777287066594  actual: 65814.59882999999\n",
      "predict: 86495.7202266338  actual: 86636.24242000001\n",
      "predict: 125701.78126735738  actual: 125467.2024\n",
      "predict: 168236.19627917747  actual: 167412.0544\n",
      "predict: 106262.36940985624  actual: 106169.6146\n",
      "predict: 51673.912569473265  actual: 52225.385989999995\n",
      "predict: 129263.49549344028  actual: 128986.8828\n",
      "predict: 55323.805126668536  actual: 55832.20416\n",
      "predict: 137089.3515514633  actual: 136632.7906\n",
      "predict: 84329.70466555745  actual: 84583.38025\n",
      "predict: 155261.82129328896  actual: 154765.9792\n",
      "predict: 90362.14191993317  actual: 90544.62544\n",
      "predict: 103233.58908717913  actual: 103264.1697\n",
      "predict: 94151.62369639301  actual: 94376.97653\n",
      "predict: 104812.15465003686  actual: 104824.1057\n",
      "predict: 49493.65931291602  actual: 50070.86316\n",
      "predict: 91269.86035718219  actual: 91441.63137999999\n",
      "predict: 127186.57579595828  actual: 126846.883\n",
      "predict: 81948.02437110603  actual: 82229.80752\n",
      "predict: 102074.30309056165  actual: 102118.5649\n",
      "predict: 86847.56916056274  actual: 86983.939\n",
      "predict: 186103.55280261053  actual: 185068.5485\n",
      "predict: 99317.02676479824  actual: 99306.23774\n",
      "predict: 72169.32999426965  actual: 72478.92582\n",
      "predict: 65077.88789480901  actual: 65471.1737\n",
      "predict: 97861.6250515455  actual: 97955.60308\n",
      "predict: 141809.43435661405  actual: 141472.3512\n",
      "predict: 85680.50256164095  actual: 85830.64565\n",
      "predict: 126106.36436772483  actual: 125867.0108\n",
      "predict: 131352.97688396982  actual: 131051.7051\n",
      "predict: 180402.6224147232  actual: 179522.4889\n",
      "predict: 146533.9455293378  actual: 145965.9238\n",
      "predict: 88769.74440202722  actual: 88971.02072999999\n",
      "predict: 181554.7867283052  actual: 132602.65\n",
      "predict: 110652.21560563592  actual: 110682.8359\n",
      "predict: 164577.20006881445  actual: 163883.8311\n",
      "predict: 167542.81929994727  actual: 166902.0425\n"
     ]
    }
   ],
   "source": [
    "# Predicting the Test set results\n",
    "y_pred = regressor.predict(X_test)\n",
    "for x in range(len(y_pred)):\n",
    "    print('predict:',y_pred[x], ' actual:',y_test[x])"
   ]
  },
  {
   "cell_type": "code",
   "execution_count": 48,
   "metadata": {},
   "outputs": [
    {
     "data": {
      "text/plain": [
       "0.9488978981132865"
      ]
     },
     "execution_count": 48,
     "metadata": {},
     "output_type": "execute_result"
    }
   ],
   "source": [
    "# Calculating the R squared value\n",
    "from sklearn.metrics import r2_score\n",
    "r2_score(y_test, y_pred)"
   ]
  },
  {
   "cell_type": "code",
   "execution_count": null,
   "metadata": {},
   "outputs": [],
   "source": []
  }
 ],
 "metadata": {
  "kernelspec": {
   "display_name": "Python 3",
   "language": "python",
   "name": "python3"
  },
  "language_info": {
   "codemirror_mode": {
    "name": "ipython",
    "version": 3
   },
   "file_extension": ".py",
   "mimetype": "text/x-python",
   "name": "python",
   "nbconvert_exporter": "python",
   "pygments_lexer": "ipython3",
   "version": "3.8.1"
  }
 },
 "nbformat": 4,
 "nbformat_minor": 4
}
